{
 "cells": [
  {
   "cell_type": "code",
   "execution_count": null,
   "metadata": {},
   "outputs": [],
   "source": [
    "%pip install yt-dlp\n",
    "%pip install colorama\n",
    "!git clone https://github.com/inmare/data-extractor.git"
   ]
  },
  {
   "cell_type": "code",
   "execution_count": null,
   "metadata": {},
   "outputs": [],
   "source": [
    "from playlist_generator import playlist\n",
    "\n",
    "# 아래의 큰 따옴표 안에 들어있는 문자를 파일 이름으로 바꾸고 프로그램을 실행하세요.\n",
    "excel_file_name = \"지우고 수정해야 될 부분\"\n",
    "playlist.generate(excel_file_name)"
   ]
  }
 ],
 "metadata": {
  "kernelspec": {
   "display_name": "venv",
   "language": "python",
   "name": "python3"
  },
  "language_info": {
   "codemirror_mode": {
    "name": "ipython",
    "version": 3
   },
   "file_extension": ".py",
   "mimetype": "text/x-python",
   "name": "python",
   "nbconvert_exporter": "python",
   "pygments_lexer": "ipython3",
   "version": "3.12.4"
  }
 },
 "nbformat": 4,
 "nbformat_minor": 2
}
