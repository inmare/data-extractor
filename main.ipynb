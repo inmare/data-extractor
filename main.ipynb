{
 "cells": [
  {
   "cell_type": "markdown",
   "metadata": {},
   "source": [
    "# 프로그램 소개\n",
    "테스트\n",
    "테스트"
   ]
  },
  {
   "cell_type": "code",
   "execution_count": 43,
   "metadata": {},
   "outputs": [
    {
     "name": "stdout",
     "output_type": "stream",
     "text": [
      "Requirement already satisfied: openpyxl in d:\\programming\\automation-notebook\\venv\\lib\\site-packages (3.1.5)\n",
      "Requirement already satisfied: et-xmlfile in d:\\programming\\automation-notebook\\venv\\lib\\site-packages (from openpyxl) (1.1.0)\n",
      "Note: you may need to restart the kernel to use updated packages.\n"
     ]
    },
    {
     "name": "stderr",
     "output_type": "stream",
     "text": [
      "\n",
      "[notice] A new release of pip is available: 24.0 -> 24.1.2\n",
      "[notice] To update, run: python.exe -m pip install --upgrade pip\n"
     ]
    },
    {
     "name": "stdout",
     "output_type": "stream",
     "text": [
      "Requirement already satisfied: yt-dlp in d:\\programming\\automation-notebook\\venv\\lib\\site-packages (2024.7.9)\n",
      "Requirement already satisfied: brotli in d:\\programming\\automation-notebook\\venv\\lib\\site-packages (from yt-dlp) (1.1.0)\n",
      "Requirement already satisfied: certifi in d:\\programming\\automation-notebook\\venv\\lib\\site-packages (from yt-dlp) (2024.7.4)\n",
      "Requirement already satisfied: mutagen in d:\\programming\\automation-notebook\\venv\\lib\\site-packages (from yt-dlp) (1.47.0)\n",
      "Requirement already satisfied: pycryptodomex in d:\\programming\\automation-notebook\\venv\\lib\\site-packages (from yt-dlp) (3.20.0)\n",
      "Requirement already satisfied: requests<3,>=2.32.2 in d:\\programming\\automation-notebook\\venv\\lib\\site-packages (from yt-dlp) (2.32.3)\n",
      "Requirement already satisfied: urllib3<3,>=1.26.17 in d:\\programming\\automation-notebook\\venv\\lib\\site-packages (from yt-dlp) (2.2.2)\n",
      "Requirement already satisfied: websockets>=12.0 in d:\\programming\\automation-notebook\\venv\\lib\\site-packages (from yt-dlp) (12.0)\n",
      "Requirement already satisfied: charset-normalizer<4,>=2 in d:\\programming\\automation-notebook\\venv\\lib\\site-packages (from requests<3,>=2.32.2->yt-dlp) (3.3.2)\n",
      "Requirement already satisfied: idna<4,>=2.5 in d:\\programming\\automation-notebook\\venv\\lib\\site-packages (from requests<3,>=2.32.2->yt-dlp) (3.7)\n",
      "Note: you may need to restart the kernel to use updated packages.\n"
     ]
    },
    {
     "name": "stderr",
     "output_type": "stream",
     "text": [
      "\n",
      "[notice] A new release of pip is available: 24.0 -> 24.1.2\n",
      "[notice] To update, run: python.exe -m pip install --upgrade pip\n"
     ]
    },
    {
     "name": "stdout",
     "output_type": "stream",
     "text": [
      "Requirement already satisfied: colorama in d:\\programming\\automation-notebook\\venv\\lib\\site-packages (0.4.6)\n",
      "Note: you may need to restart the kernel to use updated packages.\n"
     ]
    },
    {
     "name": "stderr",
     "output_type": "stream",
     "text": [
      "\n",
      "[notice] A new release of pip is available: 24.0 -> 24.1.2\n",
      "[notice] To update, run: python.exe -m pip install --upgrade pip\n"
     ]
    }
   ],
   "source": [
    "%pip install openpyxl\n",
    "%pip install yt-dlp\n",
    "%pip install colorama\n",
    "# !sudo apt-get install ffmpeg"
   ]
  },
  {
   "cell_type": "code",
   "execution_count": 4,
   "metadata": {},
   "outputs": [
    {
     "name": "stdout",
     "output_type": "stream",
     "text": [
      "\u001b[32m성공: \u001b[0m2024년 6월 플레이리스트를 생성합니다.\n"
     ]
    }
   ],
   "source": [
    "# 여기 아래줄의 \"\"안에 있는 이름을 다운로드한 엑셀 파일의 이름으로 바꾸세요\n",
    "excel_file_name = \"2024년 6월 보컬로이드 소모임 플레이리스트\"\n",
    "\n",
    "from playlist_generator import playlist\n",
    "\n",
    "playlist.generate(excel_file_name)\n"
   ]
  },
  {
   "cell_type": "code",
   "execution_count": 44,
   "metadata": {},
   "outputs": [
    {
     "data": {
      "text/markdown": [
       "2024년 6월달 플레이리스트를 생성합니다"
      ]
     },
     "metadata": {},
     "output_type": "display_data"
    },
    {
     "data": {
      "text/markdown": [
       "엑셀 파일에서 정보를 읽어오는 중입니다"
      ]
     },
     "metadata": {},
     "output_type": "display_data"
    },
    {
     "data": {
      "text/markdown": [
       "**김영찬**님의 데이터를 처리중입니다"
      ]
     },
     "metadata": {},
     "output_type": "display_data"
    },
    {
     "data": {
      "text/markdown": [
       "**김예린**님의 데이터를 처리중입니다"
      ]
     },
     "metadata": {},
     "output_type": "display_data"
    },
    {
     "data": {
      "text/markdown": [
       "**문윤서**님의 데이터를 처리중입니다"
      ]
     },
     "metadata": {},
     "output_type": "display_data"
    },
    {
     "data": {
      "text/markdown": [
       "**민현웅**님의 데이터를 처리중입니다"
      ]
     },
     "metadata": {},
     "output_type": "display_data"
    },
    {
     "data": {
      "text/markdown": [
       "**박채호**님의 데이터를 처리중입니다"
      ]
     },
     "metadata": {},
     "output_type": "display_data"
    },
    {
     "data": {
      "text/markdown": [
       "**신유선**님의 데이터를 처리중입니다"
      ]
     },
     "metadata": {},
     "output_type": "display_data"
    },
    {
     "data": {
      "text/markdown": [
       "**이재헌**님의 데이터를 처리중입니다"
      ]
     },
     "metadata": {},
     "output_type": "display_data"
    },
    {
     "data": {
      "text/markdown": [
       "**임재현**님의 데이터를 처리중입니다"
      ]
     },
     "metadata": {},
     "output_type": "display_data"
    },
    {
     "data": {
      "text/markdown": [
       "**한부현**님의 데이터를 처리중입니다"
      ]
     },
     "metadata": {},
     "output_type": "display_data"
    },
    {
     "data": {
      "text/markdown": [
       "**한수진**님의 데이터를 처리중입니다"
      ]
     },
     "metadata": {},
     "output_type": "display_data"
    },
    {
     "name": "stdout",
     "output_type": "stream",
     "text": [
      "\u001b[34mFairytale, (VY1V4 cover) \u001b[0m다운로드에 성공했습니다.          \n",
      "\u001b[34m절취선 \u001b[0m다운로드에 성공했습니다.                               \n",
      "\u001b[34mCalc. \u001b[0m다운로드에 성공했습니다.                             \n",
      "\u001b[34m남자답지 못해 \u001b[0m다운로드에 성공했습니다.                           \n",
      "\u001b[34m미래는 어떨까 \u001b[0m다운로드에 성공했습니다.                           \n",
      "\u001b[34m리얼라인 \u001b[0m다운로드에 성공했습니다.                              \n",
      "\u001b[34m밤새도록 널 생각해(10th anniv) \u001b[0m다운로드에 성공했습니다.            \n",
      "\u001b[34m달빛 랩소디 \u001b[0m다운로드에 성공했습니다.                            \n",
      "\u001b[34m모자이크 롤 (SeeU cover) \u001b[0m다운로드에 성공했습니다.               \n",
      "\u001b[34mwhere shall we go? \u001b[0m다운로드에 성공했습니다.                \n"
     ]
    }
   ],
   "source": [
    "# 여기 아래줄의 \"\"안에 있는 이름을 다운로드한 엑셀 파일의 이름으로 바꾸세요\n",
    "file_name = \"2024년 6월 보컬로이드 소모임 플레이리스트\"\n",
    "\n",
    "# 그 외 설정들\n",
    "date_year_cell = \"I4\"\n",
    "date_month_cell = \"J4\"\n",
    "\n",
    "start_row = 3\n",
    "\n",
    "excel_key_names = [\n",
    "    \"name\",\n",
    "    \"nickname\",\n",
    "    \"originalLink\",\n",
    "    \"downloadableLink\",\n",
    "    \"songName\",\n",
    "    \"songNameKor\",\n",
    "    \"composer\",\n",
    "    \"comment\",\n",
    "    \"korLyricsLink\",\n",
    "]\n",
    "\n",
    "additional_key_names = [\n",
    "    \"fileName\",\n",
    "    \"audioDownloaded\",\n",
    "    \"thumbnailDownloaded\",\n",
    "]\n",
    "\n",
    "final_output_key_names = excel_key_names[1:] + additional_key_names[0]\n",
    "\n",
    "\n",
    "audio_folder_name = \"audio\"\n",
    "thumbnail_folder_name = \"thumbnail\"\n",
    "\n",
    "from IPython.display import display_markdown\n",
    "from colorama import Fore, Style\n",
    "import openpyxl as xl\n",
    "import datetime\n",
    "import yt_dlp\n",
    "import os\n",
    "import playlist_generator as plygen\n",
    "\n",
    "excel_path  = f\"{file_name}.xlsx\"\n",
    "workbook = xl.load_workbook(excel_path)\n",
    "sheets = workbook.worksheets\n",
    "date_sheet = sheets[0]\n",
    "recommend_sheet = sheets[1]\n",
    "\n",
    "try:\n",
    "    date_year = int(date_sheet[date_year_cell].value)\n",
    "    date_month = int(date_sheet[date_month_cell].value)\n",
    "    date = datetime.date(date_year, date_month, 1)\n",
    "    display_markdown(f\"{date.year}년 {date.month}월달 플레이리스트를 생성합니다\", raw=True)\n",
    "except ValueError:\n",
    "    display_markdown(f\"\"\"제대로 플레이리스트를 생성하지 못했습니다. \n",
    "                     {workbook.sheetnames[0]}에서 {date_year_cell}과 {date_month_cell}에 \n",
    "                     각각 연도와 월을 제대로 기입했는지 확인해주세요.\"\"\", \n",
    "                     raw=True)\n",
    "    exit(0)\n",
    "\n",
    "\n",
    "data_array = []\n",
    "anon_idx = ord(\"A\")\n",
    "row_idx = start_row\n",
    "replace_str = \"\\\\/:*?\\\"<>|\"\n",
    "file_name_key = additional_key_names[0] # 파일 이름에 해당하는 키 이름\n",
    "essential_key_names = excel_key_names[2:6] # 필수로 채워져야 하는 키 이름\n",
    "\n",
    "display_markdown(\"엑셀 파일에서 정보를 읽어오는 중입니다\", raw=True)\n",
    "\n",
    "try:\n",
    "    while (recommend_sheet.cell(row=row_idx, column=1).value is not None):\n",
    "        data = {}\n",
    "        name = None\n",
    "        for idx, key in enumerate(excel_key_names):\n",
    "            cell = recommend_sheet.cell(row=row_idx, column=idx + 1)\n",
    "            if (key == \"name\"):\n",
    "                display_markdown(f\"**{cell.value}**님의 데이터를 처리중입니다\", raw=True)\n",
    "                name = cell.value\n",
    "            \n",
    "            if key in essential_key_names and cell.value is None:\n",
    "                key_name_excel = recommend_sheet.cell(row=2, column=idx + 1).value\n",
    "                raise Exception(name, key_name_excel)\n",
    "\n",
    "            # 닉네임이 없을 경우 익명으로 처리\n",
    "            if (key == \"nickname\") and cell.value is None:\n",
    "                data[key] = \"익명\" + chr(anon_idx)\n",
    "                anon_idx += 1\n",
    "            # 파일명에 사용할 수 없는 문자 변경\n",
    "            elif (key == \"songNameKor\"):\n",
    "                file_name = cell.value\n",
    "                for char in replace_str:\n",
    "                    file_name = file_name.replace(char, \"_\")\n",
    "                data[key] = cell.value\n",
    "                data[file_name_key] = file_name\n",
    "            else:\n",
    "                data[key] = cell.value\n",
    "        data_array.append(data)\n",
    "        row_idx += 1\n",
    "except Exception as e:\n",
    "    name, key_name_excel = e.args\n",
    "    display_markdown(f\"**{name}**의 **{key_name_excel}**에 해당하는 정보가 없는 것 같습니다. 엑셀 파일을 확인해주세요.\", raw=True)\n",
    "    exit(0)\n",
    "\n",
    "\n",
    "audio_ydl_opts = {\n",
    "            \"format\": \"bestaudio/best\",\n",
    "            \"postprocessors\": [\n",
    "                {\n",
    "                    \"key\": \"FFmpegExtractAudio\",\n",
    "                    \"preferredcodec\": \"mp3\",\n",
    "                    \"preferredquality\": \"192\",\n",
    "                }\n",
    "            ],\n",
    "            \"quiet\": True,\n",
    "        }\n",
    "\n",
    "if not os.path.exists(audio_folder_name):\n",
    "    os.mkdir(audio_folder_name)\n",
    "\n",
    "existing_audio_files = os.listdir(audio_folder_name)\n",
    "for file in existing_audio_files:\n",
    "    os.remove(os.path.join(audio_folder_name, file))\n",
    "\n",
    "link_key_name = excel_key_names[3]\n",
    "\n",
    "for data in data_array:\n",
    "    try:\n",
    "        ydl_opts = audio_ydl_opts.copy()\n",
    "        ydl_opts[\"outtmpl\"] = os.path.join(audio_folder_name, data[file_name_key] + \".%(ext)s\")\n",
    "        link = data[link_key_name]\n",
    "        with yt_dlp.YoutubeDL(ydl_opts) as ydl:\n",
    "            ydl.download(link)\n",
    "        print(f\"{Fore.BLUE}{data[\"songNameKor\"]} {Style.RESET_ALL}다운로드에 성공했습니다.\")\n",
    "    except yt_dlp.utils.DownloadError as e:\n",
    "        print(f\"다운로드에 실패했습니다. 영상을 스킵합니다.\\n{e}\")\n",
    "    except Exception as e:\n",
    "        print(f\"에러가 발생하였습니다.\\n{e}\")"
   ]
  },
  {
   "cell_type": "code",
   "execution_count": 4,
   "metadata": {},
   "outputs": [
    {
     "name": "stdout",
     "output_type": "stream",
     "text": [
      "Requirement already satisfied: openpyxl in d:\\programming\\automation-notebook\\venv\\lib\\site-packages (3.1.5)\n",
      "Requirement already satisfied: et-xmlfile in d:\\programming\\automation-notebook\\venv\\lib\\site-packages (from openpyxl) (1.1.0)\n",
      "Note: you may need to restart the kernel to use updated packages.\n"
     ]
    },
    {
     "name": "stderr",
     "output_type": "stream",
     "text": [
      "\n",
      "[notice] A new release of pip is available: 24.0 -> 24.1.2\n",
      "[notice] To update, run: python.exe -m pip install --upgrade pip\n"
     ]
    },
    {
     "name": "stdout",
     "output_type": "stream",
     "text": [
      "Requirement already satisfied: yt-dlp in d:\\programming\\automation-notebook\\venv\\lib\\site-packages (2024.7.9)\n",
      "Requirement already satisfied: brotli in d:\\programming\\automation-notebook\\venv\\lib\\site-packages (from yt-dlp) (1.1.0)\n",
      "Requirement already satisfied: certifi in d:\\programming\\automation-notebook\\venv\\lib\\site-packages (from yt-dlp) (2024.7.4)\n",
      "Requirement already satisfied: mutagen in d:\\programming\\automation-notebook\\venv\\lib\\site-packages (from yt-dlp) (1.47.0)\n",
      "Requirement already satisfied: pycryptodomex in d:\\programming\\automation-notebook\\venv\\lib\\site-packages (from yt-dlp) (3.20.0)\n",
      "Requirement already satisfied: requests<3,>=2.32.2 in d:\\programming\\automation-notebook\\venv\\lib\\site-packages (from yt-dlp) (2.32.3)\n",
      "Requirement already satisfied: urllib3<3,>=1.26.17 in d:\\programming\\automation-notebook\\venv\\lib\\site-packages (from yt-dlp) (2.2.2)\n",
      "Requirement already satisfied: websockets>=12.0 in d:\\programming\\automation-notebook\\venv\\lib\\site-packages (from yt-dlp) (12.0)\n",
      "Requirement already satisfied: charset-normalizer<4,>=2 in d:\\programming\\automation-notebook\\venv\\lib\\site-packages (from requests<3,>=2.32.2->yt-dlp) (3.3.2)\n",
      "Requirement already satisfied: idna<4,>=2.5 in d:\\programming\\automation-notebook\\venv\\lib\\site-packages (from requests<3,>=2.32.2->yt-dlp) (3.7)\n",
      "Note: you may need to restart the kernel to use updated packages.\n"
     ]
    },
    {
     "name": "stderr",
     "output_type": "stream",
     "text": [
      "\n",
      "[notice] A new release of pip is available: 24.0 -> 24.1.2\n",
      "[notice] To update, run: python.exe -m pip install --upgrade pip\n"
     ]
    }
   ],
   "source": [
    "# 여기 아래줄의 \"\"안에 있는 이름을 다운로드한 엑셀 파일의 이름으로 바꾸세요\n",
    "file_name = \"2024년 6월 보컬로이드 소모임 플레이리스트\"\n",
    "\n",
    "import openpyxl as xl\n",
    "import subprocess\n",
    "import yt_dlp\n",
    "import json\n",
    "import os\n",
    "\n",
    "\"\"\"\n",
    "파일 만들때 꼭 확인 해야 하는 부분!\n",
    "\"\"\"\n",
    "PATH_PREFIX = \"2024-06\"\n",
    "EXCEL_FILE_NAME = \"2024-06\"\n",
    "START_ROW = 10\n",
    "COLUMN_LENGTH = 8\n",
    "JSON_INFO = [\n",
    "    \"name\",\n",
    "    \"nickname\",\n",
    "    \"audioLink\",\n",
    "    \"songName\",\n",
    "    \"songNameKor\",\n",
    "    \"composer\",\n",
    "    \"comment\",\n",
    "    \"lyricsKor\",\n",
    "]\n",
    "\n",
    "FILE_NAME = \"fileName\"\n",
    "IMG_PATH = \"imgPath\"\n",
    "\n",
    "# 엑셀에서 데이터 읽어오기\n",
    "excel_path = os.path.join(f\"./{PATH_PREFIX}/{EXCEL_FILE_NAME}.xlsx\")\n",
    "excel_document = xl.load_workbook(excel_path)\n",
    "sheets = excel_document.sheetnames\n",
    "sheet = excel_document[sheets[0]]\n",
    "\n",
    "# 엑셀에서 정보 추출, JSON_INFO에 맞게 데이터를 info_array에 저장\n",
    "dl_link = []\n",
    "data_array = []\n",
    "anon_idx = ord(\"A\")\n",
    "\n",
    "for row in range(START_ROW, sheet.max_row + 1):\n",
    "    if sheet.cell(row=row, column=1).value is None:\n",
    "        break\n",
    "    info = {}\n",
    "    for col in range(1, COLUMN_LENGTH + 1):\n",
    "        cell_value = sheet.cell(row=row, column=col).value\n",
    "        # 닉네임이 없을 경우 익명으로 처리\n",
    "        if col == JSON_INFO.index(\"nickname\") + 1 and cell_value is None:\n",
    "            cell_value = \"익명\" + chr(anon_idx)\n",
    "            anon_idx += 1\n",
    "        # 파일명에 사용할 수 없는 문자 제거\n",
    "        elif col == JSON_INFO.index(\"songNameKor\") + 1:\n",
    "            replace_str = '\\\\/:*?\"<>|'\n",
    "            file_name = cell_value\n",
    "            for c in replace_str:\n",
    "                file_name = file_name.replace(c, \"#\")\n",
    "            info[FILE_NAME] = file_name\n",
    "        info[JSON_INFO[col - 1]] = cell_value\n",
    "\n",
    "    data_array.append(info)\n",
    "    dl_link.append(info[\"audioLink\"])\n",
    "\n",
    "audio_path = os.path.join(f\"./{PATH_PREFIX}/audio\")\n",
    "thumbnail_path = os.path.join(f\"./{PATH_PREFIX}/visual/thumbnail\")\n",
    "\n",
    "dl_audio = True\n",
    "dl_thumbnail = False\n",
    "\n",
    "# 노래 다운로드\n",
    "for idx, link in enumerate(dl_link):\n",
    "    if dl_audio:\n",
    "        ydl_opts = {\n",
    "            \"format\": \"bestaudio/best\",\n",
    "            \"postprocessors\": [\n",
    "                {\n",
    "                    \"key\": \"FFmpegExtractAudio\",\n",
    "                    \"preferredcodec\": \"mp3\",\n",
    "                    \"preferredquality\": \"192\",\n",
    "                }\n",
    "            ],\n",
    "            \"outtmpl\": os.path.join(\n",
    "                audio_path, data_array[idx][FILE_NAME] + \".%(ext)s\"\n",
    "            ),\n",
    "        }\n",
    "\n",
    "        try:\n",
    "            with yt_dlp.YoutubeDL(ydl_opts) as ydl:\n",
    "                ydl.download(link)\n",
    "            print(\"다운로드에 성공했습니다.\")\n",
    "        except yt_dlp.utils.DownloadError as e:\n",
    "            print(f\"다운로드에 실패했습니다. 영상을 스킵합니다.\\n{e}\")\n",
    "        except Exception as e:\n",
    "            print(f\"에러가 발생하였습니다.\\n{e}\")\n",
    "\n",
    "\n",
    "# 썸네일 다운로드\n",
    "for idx, link in enumerate(dl_link):\n",
    "    if dl_thumbnail:\n",
    "        thumbnail_opts = {\n",
    "            \"skip_download\": True,  # Skip downloading the video\n",
    "            \"writethumbnail\": True,  # Download the thumbnail\n",
    "            \"outtmpl\": os.path.join(\n",
    "                thumbnail_path, data_array[idx][FILE_NAME] + \".%(ext)s\"\n",
    "            ),\n",
    "        }\n",
    "\n",
    "        with yt_dlp.YoutubeDL(thumbnail_opts) as ydl:\n",
    "            ydl.download(link)\n",
    "\n",
    "        # get thumbnail file which starts with the song name\n",
    "        thumbnail_files = os.listdir(thumbnail_path)\n",
    "        thumbnail_files = [\n",
    "            file\n",
    "            for file in thumbnail_files\n",
    "            if file.startswith(data_array[idx][FILE_NAME])\n",
    "        ]\n",
    "        thumbnail = thumbnail_files[0]\n",
    "\n",
    "        if not thumbnail.endswith(\".png\"):\n",
    "            subprocess.run(\n",
    "                [\n",
    "                    \"ffmpeg\",\n",
    "                    \"-i\",\n",
    "                    f\"{thumbnail_path}/{thumbnail}\",\n",
    "                    f\"{thumbnail_path}/{data_array[idx][FILE_NAME]}.png\",\n",
    "                ]\n",
    "            )\n",
    "\n",
    "            os.remove(f\"{thumbnail_path}/{thumbnail}\")\n",
    "\n",
    "    data_array[idx][IMG_PATH] = str(\n",
    "        os.path.abspath(\n",
    "            os.path.join(thumbnail_path, f\"{data_array[idx][FILE_NAME]}.png\")\n",
    "        )\n",
    "    ).replace(\"\\\\\", \"/\")\n",
    "\n",
    "\n",
    "json_path = os.path.join(f\"./{PATH_PREFIX}/{EXCEL_FILE_NAME}.json\")\n",
    "# json_path = os.path.abspath(\"./temp/data.json\")\n",
    "with open(\n",
    "    json_path,\n",
    "    \"w\",\n",
    "    encoding=\"utf-8\",\n",
    ") as f:\n",
    "    json.dump(data_array, f, ensure_ascii=False, indent=2)\n"
   ]
  }
 ],
 "metadata": {
  "kernelspec": {
   "display_name": "venv",
   "language": "python",
   "name": "python3"
  },
  "language_info": {
   "codemirror_mode": {
    "name": "ipython",
    "version": 3
   },
   "file_extension": ".py",
   "mimetype": "text/x-python",
   "name": "python",
   "nbconvert_exporter": "python",
   "pygments_lexer": "ipython3",
   "version": "3.12.4"
  }
 },
 "nbformat": 4,
 "nbformat_minor": 2
}
