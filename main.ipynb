{
 "cells": [
  {
   "cell_type": "markdown",
   "metadata": {},
   "source": [
    "# 프로그램 소개\n",
    "테스트\n",
    "테스트"
   ]
  },
  {
   "cell_type": "code",
   "execution_count": 43,
   "metadata": {},
   "outputs": [
    {
     "name": "stdout",
     "output_type": "stream",
     "text": [
      "Requirement already satisfied: openpyxl in d:\\programming\\automation-notebook\\venv\\lib\\site-packages (3.1.5)\n",
      "Requirement already satisfied: et-xmlfile in d:\\programming\\automation-notebook\\venv\\lib\\site-packages (from openpyxl) (1.1.0)\n",
      "Note: you may need to restart the kernel to use updated packages.\n"
     ]
    },
    {
     "name": "stderr",
     "output_type": "stream",
     "text": [
      "\n",
      "[notice] A new release of pip is available: 24.0 -> 24.1.2\n",
      "[notice] To update, run: python.exe -m pip install --upgrade pip\n"
     ]
    },
    {
     "name": "stdout",
     "output_type": "stream",
     "text": [
      "Requirement already satisfied: yt-dlp in d:\\programming\\automation-notebook\\venv\\lib\\site-packages (2024.7.9)\n",
      "Requirement already satisfied: brotli in d:\\programming\\automation-notebook\\venv\\lib\\site-packages (from yt-dlp) (1.1.0)\n",
      "Requirement already satisfied: certifi in d:\\programming\\automation-notebook\\venv\\lib\\site-packages (from yt-dlp) (2024.7.4)\n",
      "Requirement already satisfied: mutagen in d:\\programming\\automation-notebook\\venv\\lib\\site-packages (from yt-dlp) (1.47.0)\n",
      "Requirement already satisfied: pycryptodomex in d:\\programming\\automation-notebook\\venv\\lib\\site-packages (from yt-dlp) (3.20.0)\n",
      "Requirement already satisfied: requests<3,>=2.32.2 in d:\\programming\\automation-notebook\\venv\\lib\\site-packages (from yt-dlp) (2.32.3)\n",
      "Requirement already satisfied: urllib3<3,>=1.26.17 in d:\\programming\\automation-notebook\\venv\\lib\\site-packages (from yt-dlp) (2.2.2)\n",
      "Requirement already satisfied: websockets>=12.0 in d:\\programming\\automation-notebook\\venv\\lib\\site-packages (from yt-dlp) (12.0)\n",
      "Requirement already satisfied: charset-normalizer<4,>=2 in d:\\programming\\automation-notebook\\venv\\lib\\site-packages (from requests<3,>=2.32.2->yt-dlp) (3.3.2)\n",
      "Requirement already satisfied: idna<4,>=2.5 in d:\\programming\\automation-notebook\\venv\\lib\\site-packages (from requests<3,>=2.32.2->yt-dlp) (3.7)\n",
      "Note: you may need to restart the kernel to use updated packages.\n"
     ]
    },
    {
     "name": "stderr",
     "output_type": "stream",
     "text": [
      "\n",
      "[notice] A new release of pip is available: 24.0 -> 24.1.2\n",
      "[notice] To update, run: python.exe -m pip install --upgrade pip\n"
     ]
    },
    {
     "name": "stdout",
     "output_type": "stream",
     "text": [
      "Requirement already satisfied: colorama in d:\\programming\\automation-notebook\\venv\\lib\\site-packages (0.4.6)\n",
      "Note: you may need to restart the kernel to use updated packages.\n"
     ]
    },
    {
     "name": "stderr",
     "output_type": "stream",
     "text": [
      "\n",
      "[notice] A new release of pip is available: 24.0 -> 24.1.2\n",
      "[notice] To update, run: python.exe -m pip install --upgrade pip\n"
     ]
    }
   ],
   "source": [
    "%pip install yt-dlp\n",
    "%pip install colorama\n",
    "!git clone https://codeberg.org/meltdown/data-extractor.git"
   ]
  },
  {
   "cell_type": "code",
   "execution_count": 4,
   "metadata": {},
   "outputs": [
    {
     "name": "stdout",
     "output_type": "stream",
     "text": [
      "Requirement already satisfied: openpyxl in d:\\programming\\automation-notebook\\venv\\lib\\site-packages (3.1.5)\n",
      "Requirement already satisfied: et-xmlfile in d:\\programming\\automation-notebook\\venv\\lib\\site-packages (from openpyxl) (1.1.0)\n",
      "Note: you may need to restart the kernel to use updated packages.\n"
     ]
    },
    {
     "name": "stderr",
     "output_type": "stream",
     "text": [
      "\n",
      "[notice] A new release of pip is available: 24.0 -> 24.1.2\n",
      "[notice] To update, run: python.exe -m pip install --upgrade pip\n"
     ]
    },
    {
     "name": "stdout",
     "output_type": "stream",
     "text": [
      "Requirement already satisfied: yt-dlp in d:\\programming\\automation-notebook\\venv\\lib\\site-packages (2024.7.9)\n",
      "Requirement already satisfied: brotli in d:\\programming\\automation-notebook\\venv\\lib\\site-packages (from yt-dlp) (1.1.0)\n",
      "Requirement already satisfied: certifi in d:\\programming\\automation-notebook\\venv\\lib\\site-packages (from yt-dlp) (2024.7.4)\n",
      "Requirement already satisfied: mutagen in d:\\programming\\automation-notebook\\venv\\lib\\site-packages (from yt-dlp) (1.47.0)\n",
      "Requirement already satisfied: pycryptodomex in d:\\programming\\automation-notebook\\venv\\lib\\site-packages (from yt-dlp) (3.20.0)\n",
      "Requirement already satisfied: requests<3,>=2.32.2 in d:\\programming\\automation-notebook\\venv\\lib\\site-packages (from yt-dlp) (2.32.3)\n",
      "Requirement already satisfied: urllib3<3,>=1.26.17 in d:\\programming\\automation-notebook\\venv\\lib\\site-packages (from yt-dlp) (2.2.2)\n",
      "Requirement already satisfied: websockets>=12.0 in d:\\programming\\automation-notebook\\venv\\lib\\site-packages (from yt-dlp) (12.0)\n",
      "Requirement already satisfied: charset-normalizer<4,>=2 in d:\\programming\\automation-notebook\\venv\\lib\\site-packages (from requests<3,>=2.32.2->yt-dlp) (3.3.2)\n",
      "Requirement already satisfied: idna<4,>=2.5 in d:\\programming\\automation-notebook\\venv\\lib\\site-packages (from requests<3,>=2.32.2->yt-dlp) (3.7)\n",
      "Note: you may need to restart the kernel to use updated packages.\n"
     ]
    },
    {
     "name": "stderr",
     "output_type": "stream",
     "text": [
      "\n",
      "[notice] A new release of pip is available: 24.0 -> 24.1.2\n",
      "[notice] To update, run: python.exe -m pip install --upgrade pip\n"
     ]
    }
   ],
   "source": [
    "from playlist_generator import playlist\n",
    "\n",
    "excel_file_name = \"2024년 6월 보컬로이드 소모임 플레이리스트\"\n",
    "# excel_file_name = \"test\"\n",
    "playlist.generate(excel_file_name)"
   ]
  }
 ],
 "metadata": {
  "kernelspec": {
   "display_name": "venv",
   "language": "python",
   "name": "python3"
  },
  "language_info": {
   "codemirror_mode": {
    "name": "ipython",
    "version": 3
   },
   "file_extension": ".py",
   "mimetype": "text/x-python",
   "name": "python",
   "nbconvert_exporter": "python",
   "pygments_lexer": "ipython3",
   "version": "3.12.4"
  }
 },
 "nbformat": 4,
 "nbformat_minor": 2
}
