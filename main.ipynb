{
 "cells": [
  {
   "cell_type": "markdown",
   "metadata": {},
   "source": [
    "# 사용방법\n",
    "**주의사항**: 아래 순서대로 작업을 할 때 계속 사이트의 탭을 열어둔 상태여야 됩니다! 다른 탭으로 이동하면 제대로 프로그램이 작동하지 않을 수도 있습니다!  \n",
    "1. 우선 화면 상단의 런타임 > 런타임 연결 해제를 클릭해서 초기화를 합니다. 초기화를 할 때 경고창이 뜨는데, 거기에서 예를 선택하고 페이지를 새로 고침해서 초기화를 완료합니다.  \n",
    "![](img/reset-runtime.png)\n",
    " \n",
    "![](img/reset-runtime-warning.png)  \n",
    "2. 그런 다음 화면 중간에 보이는 박스들 중 제일 위쪽 박스를 클릭하고 왼쪽의 삼각형 버튼을 눌러서 코드를 실행합니다.  \n",
    "![](img/run-first-cell.png)  \n",
    "3. 그러면 아래와 같은 경고창이 뜰텐데 무시하고 실행하기를 클릭합니다.  \n",
    "![](img/warning-window.png)  \n",
    "4. 그러면 박스 아래에 뭔가 글자가 많이 뜨면서 코드가 실행됩니다. 박스 아래쪽에 더 이상 글자가 뜨지 않을 때까지 기다립니다.  \n",
    "![](img/first-cell-terminal.png)  \n",
    "5. 만약 제대로 실행되었다면 화면 왼쪽의 폴더 아이콘을 클릭하고 **파일** 밑부분에 있는 새로고침 버튼을 누르면 playlist_generator 폴더와 playlist_generator.zip 파일이 보일겁니다.  \n",
    "![](img/downloaded-files.png)  \n",
    "6. 그런 다음 분석할 엑셀 파일을 폴더 아이콘을 클릭해서 열려있는 부분에 드래그해서 파일을 업로드 합니다. 마찬가지로 경고창이 뜰텐데 예를 선택하고 업로드를 완료합니다. 경우에 따라서 새로고침 버튼을 눌러서 업로드가 완료되었는지 확인해야 할 수도 있습니다.\n",
    "![](img/excel-file-upload.png)\n",
    " \n",
    "![](img/file-upload-warning.png)  \n",
    "7. 그리고 두번째 박스의 \"지우고 수정해야 될 부분\"에서 큰 따옴표 내부의 글자를 없애고 엑셀 파일 이름을 입력합니다.  \n",
    "![](img/changed-second-cell.png)  \n",
    "8. 두번째 박스의 삼각형 버튼을 눌러서 코드를 실행합니다.  \n",
    "9.  실행하면 역시 박스 아래로 무언가 글자가 뜰 텐데, 정상적으로 실행되었으면 정상적으로 실행되었다는 메세지와 함께 다운로드 할 수 있는 zip파일의 이름이 뜨게 됩니다.  \n",
    "![](img/final-output-terminal.png)  \n",
    "10. 그러면 다시 **파일** 밑의 새로고침 버튼을 눌러서 해당 이름의 zip파일 이름을 확인한 다음 파일 옆 점 세개 > 다운로드 버튼을 클릭해서 다운로드가 될 때까지 기다립니다.  \n",
    "![](img/final-output-file.png)  \n",
    "11. 다운로드가 완료되면 다운받은 압축 파일을 열어서 노래, 썸네일 폴더 그리고 플레이리스트 정보가 담긴 json파일이 있는지 확인합니다.  \n",
    "12. 만약 박스 아래로 글자가 뜨는데, **경고** 같은 메세지와 함께 다시 프로그램을 실행하라는 글이 마지막으로 뜬다면 다시 삼각형 버튼을 클릭해서 누락된 파일을 다운로드 해줍니다.  \n",
    "![](img/fail-terminal-output1.png)  \n",
    "![](img/fail-terminal-output2.png)  \n",
    "13. 그 후 9번과 같은 글자가 뜬다면 압축 파일을 다운로드하고, 여전히 경고 메세지가 뜬다면 12번을 반복합니다.  "
   ]
  },
  {
   "cell_type": "code",
   "execution_count": null,
   "metadata": {},
   "outputs": [],
   "source": [
    "%pip install yt-dlp\n",
    "%pip install colorama\n",
    "!rm -rf playlist_generator playlist_generator.zip\n",
    "!wget https://github.com/inmare/data-extractor/releases/latest/download/playlist_generator.zip\n",
    "!mkdir playlist_generator\n",
    "!unzip \"playlist_generator.zip\" -d playlist_generator"
   ]
  },
  {
   "cell_type": "code",
   "execution_count": null,
   "metadata": {},
   "outputs": [],
   "source": [
    "from playlist_generator import playlist\n",
    "\n",
    "# 아래의 큰 따옴표 안에 들어있는 문자를 파일 이름으로 바꾸고 프로그램을 실행하세요.\n",
    "excel_file_name = \"지우고 수정해야 될 부분\"\n",
    "playlist.generate(excel_file_name)"
   ]
  }
 ],
 "metadata": {
  "kernelspec": {
   "display_name": "venv",
   "language": "python",
   "name": "python3"
  },
  "language_info": {
   "codemirror_mode": {
    "name": "ipython",
    "version": 3
   },
   "file_extension": ".py",
   "mimetype": "text/x-python",
   "name": "python",
   "nbconvert_exporter": "python",
   "pygments_lexer": "ipython3",
   "version": "3.12.4"
  }
 },
 "nbformat": 4,
 "nbformat_minor": 2
}
